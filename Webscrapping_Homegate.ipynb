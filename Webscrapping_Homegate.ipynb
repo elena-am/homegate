{
 "cells": [
  {
   "cell_type": "markdown",
   "metadata": {},
   "source": [
    "<img src=\"Homegate_Logo.png\" width=\"200\"/>"
   ]
  },
  {
   "cell_type": "markdown",
   "metadata": {},
   "source": [
    "# Title: The Flat Hunter"
   ]
  },
  {
   "cell_type": "markdown",
   "metadata": {},
   "source": [
    "Goal: Create a program that gets the latest flat rental postings that fit your criteria, and store important data in a database for future analytics (study price fluctuations for example).\n",
    "\n",
    "Involves: Web scraping, data cleaning with Python, visualization, API\n",
    "\n",
    "Description: The idea is to write a program with the following functionalities:\n",
    "- Get data from homegate.ch on the flat/house rental for the criteria of your interest\n",
    "- Store the raw data\n",
    "- Clean up the data and filter it according to keywords (for example 'view', 'bright', ' Attika',....)\n",
    "- Perform some analytics (average price for example)\n",
    "- Visualize the results (histogram of rent prices for example) \n",
    "\n",
    "\n",
    "Possible extensions:\n",
    "- Setup an automatic reporting system, where you just need to run one script to get a full pdf report on new listings available for your criteria \n",
    "- Get acquainted with nltk, a natural language processing software and basic word analysis \n",
    "- Connect to gmaps API and implement a distance filter from a specific address\n",
    "- Extend to other websites.\n",
    "\n",
    "Work Packages:\n",
    "\n",
    "- Explore homegate.ch, make a list of data to extract and then write the notebook to extract them. Save the data as a csv file\n",
    "- Write the notebook to clean the data, filter by keyword and analyze and plot the data \n"
   ]
  },
  {
   "cell_type": "code",
   "execution_count": 1,
   "metadata": {},
   "outputs": [],
   "source": [
    "import requests\n",
    "import pandas as pd\n",
    "import numpy as np\n",
    "\n",
    "from bs4 import BeautifulSoup\n",
    "\n",
    "#this is a fancy progress bar! works on jupyter notebook\n",
    "from tqdm.notebook import tqdm\n",
    "\n",
    "from time import sleep\n",
    "from datetime import datetime\n",
    "\n",
    "# this is to not show warnings in the notebook. Warning!!! Use only if you are absolutely sure\n",
    "#import warnings\n",
    "\n",
    "#warnings.filterwarnings(\"ignore\")"
   ]
  },
  {
   "cell_type": "markdown",
   "metadata": {},
   "source": [
    "## Requests"
   ]
  },
  {
   "cell_type": "code",
   "execution_count": 2,
   "metadata": {},
   "outputs": [],
   "source": [
    "link = \"https://www.homegate.ch/rent/real-estate/matching-list?loc=geo-zipcode-8001%2Cgeo-zipcode-8050%2Cgeo-zipcode-8006%2Cgeo-zipcode-8008\""
   ]
  },
  {
   "cell_type": "markdown",
   "metadata": {},
   "source": [
    "## Getting the webpage content using requests library"
   ]
  },
  {
   "cell_type": "code",
   "execution_count": 3,
   "metadata": {},
   "outputs": [],
   "source": [
    "response = requests.get(link, timeout=15) #now all the information is stored in the Response object"
   ]
  },
  {
   "cell_type": "code",
   "execution_count": 4,
   "metadata": {},
   "outputs": [
    {
     "data": {
      "text/plain": [
       "200"
      ]
     },
     "execution_count": 4,
     "metadata": {},
     "output_type": "execute_result"
    }
   ],
   "source": [
    "response.status_code # 200 is good. Anything with 4** or 5** is bad"
   ]
  },
  {
   "cell_type": "code",
   "execution_count": 5,
   "metadata": {},
   "outputs": [],
   "source": [
    "#response.content #whole content of the webpage without treatment"
   ]
  },
  {
   "cell_type": "markdown",
   "metadata": {},
   "source": [
    "#### Parse response using BeautifulSoup"
   ]
  },
  {
   "cell_type": "markdown",
   "metadata": {},
   "source": [
    "We can use the BeautifulSoup library to parse this document and extract texts from the HTML tags"
   ]
  },
  {
   "cell_type": "code",
   "execution_count": 6,
   "metadata": {},
   "outputs": [],
   "source": [
    "soup = BeautifulSoup(response.content, \"html.parser\")"
   ]
  },
  {
   "cell_type": "code",
   "execution_count": 7,
   "metadata": {},
   "outputs": [],
   "source": [
    "#soup.prettify()"
   ]
  },
  {
   "cell_type": "code",
   "execution_count": 8,
   "metadata": {},
   "outputs": [],
   "source": [
    "# get whole text from soup\n",
    "\n",
    "#soup.get_text()"
   ]
  },
  {
   "cell_type": "code",
   "execution_count": 9,
   "metadata": {},
   "outputs": [],
   "source": [
    "# get all `a` tags\n",
    "\n",
    "all_a = soup.findAll(\"a\") #or all_a = soup.find_all(\"a\")\n",
    "# all_a[8].get_text()\n",
    "# for a in all_a[:4]:\n",
    "#     print(a.get_text())"
   ]
  },
  {
   "cell_type": "markdown",
   "metadata": {},
   "source": [
    "#### Go to web page and inspect it to get a flat ad box"
   ]
  },
  {
   "cell_type": "code",
   "execution_count": 10,
   "metadata": {},
   "outputs": [
    {
     "data": {
      "text/plain": [
       "'Zaehringerstrasse 26, 8001 Zurich'"
      ]
     },
     "execution_count": 10,
     "metadata": {},
     "output_type": "execute_result"
    }
   ],
   "source": [
    "one_address = soup.find(\"p\", text=True).text\n",
    "one_address"
   ]
  },
  {
   "cell_type": "code",
   "execution_count": 11,
   "metadata": {},
   "outputs": [
    {
     "data": {
      "text/plain": [
       "'CHF 1,550.–'"
      ]
     },
     "execution_count": 11,
     "metadata": {},
     "output_type": "execute_result"
    }
   ],
   "source": [
    "one_price = soup.find(\"span\", {\"class\":\"ListItemPrice_price_1o0i3\"}).text\n",
    "one_price"
   ]
  },
  {
   "cell_type": "code",
   "execution_count": 12,
   "metadata": {},
   "outputs": [
    {
     "data": {
      "text/plain": [
       "'100m2'"
      ]
     },
     "execution_count": 12,
     "metadata": {},
     "output_type": "execute_result"
    }
   ],
   "source": [
    "one_space = soup.find(\"span\", {\"class\":\"ListItemLivingSpace_value_2zFir\"}).text\n",
    "one_space"
   ]
  },
  {
   "cell_type": "code",
   "execution_count": 13,
   "metadata": {},
   "outputs": [
    {
     "data": {
      "text/plain": [
       "'4.5rm'"
      ]
     },
     "execution_count": 13,
     "metadata": {},
     "output_type": "execute_result"
    }
   ],
   "source": [
    "one_rooms = soup.find(\"span\", {\"class\":\"ListItemRoomNumber_value_Hpn8O\"}).text\n",
    "one_rooms"
   ]
  },
  {
   "cell_type": "markdown",
   "metadata": {},
   "source": [
    "#### Get flat link"
   ]
  },
  {
   "cell_type": "code",
   "execution_count": 14,
   "metadata": {},
   "outputs": [
    {
     "data": {
      "text/plain": [
       "'https://homegate.ch/rent/3000908194'"
      ]
     },
     "execution_count": 14,
     "metadata": {},
     "output_type": "execute_result"
    }
   ],
   "source": [
    "link_flat = \"https://homegate.ch\"+soup.find(\"a\", {\"data-test\":\"result-list-item\"}).get(\"href\")\n",
    "link_flat"
   ]
  },
  {
   "cell_type": "code",
   "execution_count": 15,
   "metadata": {},
   "outputs": [],
   "source": [
    "# for span in room.find_all(\"span\"):\n",
    "#     print(span.text)"
   ]
  },
  {
   "cell_type": "markdown",
   "metadata": {},
   "source": [
    "### Putting all together: Extend getting information from one flat to all flats in a page"
   ]
  },
  {
   "cell_type": "markdown",
   "metadata": {},
   "source": [
    "##### Extend getting information from one page, to all pages"
   ]
  },
  {
   "cell_type": "code",
   "execution_count": 16,
   "metadata": {},
   "outputs": [
    {
     "data": {
      "text/plain": [
       "'17'"
      ]
     },
     "execution_count": 16,
     "metadata": {},
     "output_type": "execute_result"
    }
   ],
   "source": [
    "#Getting the number of pages\n",
    "max_pages = soup.find(\"div\", {\"class\": \"ResultListPage_paginationHolder_3XZql\"}).text.split()\n",
    "a = max_pages[0]\n",
    "pieces = a.split('...')\n",
    "max_pages = pieces[1]\n",
    "max_pages\n"
   ]
  },
  {
   "cell_type": "markdown",
   "metadata": {},
   "source": [
    "https://www.homegate.ch/rent/real-estate/matching-list?loc=geo-zipcode-8001%2Cgeo-zipcode-8050%2Cgeo-zipcode-8006%2Cgeo-zipcode-8008"
   ]
  },
  {
   "cell_type": "markdown",
   "metadata": {},
   "source": [
    "#### Defining the link"
   ]
  },
  {
   "cell_type": "code",
   "execution_count": 17,
   "metadata": {},
   "outputs": [],
   "source": [
    "link_first_part = \"https://www.homegate.ch\"\n",
    "link_mid_1_part = \"/rent/real-estate/matching-list?loc=geo-zipcode-\"\n",
    "link_more_part = \"%2Cgeo-zipcode-\""
   ]
  },
  {
   "cell_type": "code",
   "execution_count": 18,
   "metadata": {},
   "outputs": [],
   "source": [
    "# for page in tqdm(range(1, int(max_pages) + 1)):\n",
    "#     \"\"\"Make the urls dynamic\"\"\"\n",
    "#     url = (\n",
    "#         link_first_part\n",
    "#         + link_mid_1_part\n",
    "#         + str(page)\n",
    "#         + link_mid_2_part\n",
    "#         + \"Data%20Engineer\""
   ]
  },
  {
   "cell_type": "markdown",
   "metadata": {},
   "source": [
    "#### Modularizing the process"
   ]
  },
  {
   "cell_type": "code",
   "execution_count": 19,
   "metadata": {},
   "outputs": [],
   "source": [
    "def get_flatdata_page(soup):\n",
    "    \n",
    "    cols = [\"Address\", \"Price\", \"Space\", \"Rooms\", \"flat_link\"]\n",
    "    df_page = pd.DataFrame(columns=cols)  # defining my dataframe\n",
    "    \n",
    "    all_flats = soup.find(\"div\", {\"data-test\":\"result-list\"})\n",
    "    for flat_ad in all_flats:\n",
    "        link_flat = link_first_part + flat_ad.find(\"a\", {\"data-test\":\"result-list-item\"}).get(\"href\")\n",
    "        \n",
    "        try:\n",
    "            address = flat_ad.find(\"p\", text=True).text\n",
    "        except AttributeError:\n",
    "            address = \"\"\n",
    "            \n",
    "        try:\n",
    "            price = flat_ad.find(\"span\", {\"class\":\"ListItemPrice_price_1o0i3\"}).text\n",
    "        except AttributeError:\n",
    "            price = \"\"\n",
    "        \n",
    "        try:\n",
    "            space = flat_ad.find(\"span\", {\"class\":\"ListItemLivingSpace_value_2zFir\"}).text\n",
    "        except AttributeError:\n",
    "            space = \"\"\n",
    "            \n",
    "        try:\n",
    "            rooms = flat_ad.find(\"span\", {\"class\":\"ListItemRoomNumber_value_Hpn8O\"}).text\n",
    "        except AttributeError:\n",
    "            rooms = \"\"\n",
    "        \n",
    "        df_page = df_page.append(\n",
    "            {\n",
    "                \"Address\": address,\n",
    "                \"Price\": price,\n",
    "                \"Space\": space,\n",
    "                \"Rooms\": rooms,\n",
    "                \"flat_link\": link_flat,\n",
    "            },\n",
    "            ignore_index=True,\n",
    "        )\n",
    "    return df_page"
   ]
  },
  {
   "cell_type": "code",
   "execution_count": 20,
   "metadata": {},
   "outputs": [],
   "source": [
    "# test function\n",
    "df_page = get_flatdata_page(soup)"
   ]
  },
  {
   "cell_type": "code",
   "execution_count": 21,
   "metadata": {},
   "outputs": [
    {
     "data": {
      "text/html": [
       "<div>\n",
       "<style scoped>\n",
       "    .dataframe tbody tr th:only-of-type {\n",
       "        vertical-align: middle;\n",
       "    }\n",
       "\n",
       "    .dataframe tbody tr th {\n",
       "        vertical-align: top;\n",
       "    }\n",
       "\n",
       "    .dataframe thead th {\n",
       "        text-align: right;\n",
       "    }\n",
       "</style>\n",
       "<table border=\"1\" class=\"dataframe\">\n",
       "  <thead>\n",
       "    <tr style=\"text-align: right;\">\n",
       "      <th></th>\n",
       "      <th>Address</th>\n",
       "      <th>Price</th>\n",
       "      <th>Space</th>\n",
       "      <th>Rooms</th>\n",
       "      <th>flat_link</th>\n",
       "    </tr>\n",
       "  </thead>\n",
       "  <tbody>\n",
       "    <tr>\n",
       "      <th>0</th>\n",
       "      <td>Zaehringerstrasse 26, 8001 Zurich</td>\n",
       "      <td>CHF 1,550.–</td>\n",
       "      <td>100m2</td>\n",
       "      <td>4.5rm</td>\n",
       "      <td>https://www.homegate.ch/rent/3000908194</td>\n",
       "    </tr>\n",
       "    <tr>\n",
       "      <th>1</th>\n",
       "      <td>32 Mainaustrasse, 8008 Zurich</td>\n",
       "      <td>CHF 2,280.–</td>\n",
       "      <td>43m2</td>\n",
       "      <td>1.5rm</td>\n",
       "      <td>https://www.homegate.ch/rent/3000909385</td>\n",
       "    </tr>\n",
       "    <tr>\n",
       "      <th>2</th>\n",
       "      <td>Mühlebachstrasse, 8008 Zurich</td>\n",
       "      <td>CHF 3,450.–</td>\n",
       "      <td>60m2</td>\n",
       "      <td>2.5rm</td>\n",
       "      <td>https://www.homegate.ch/rent/3000751316</td>\n",
       "    </tr>\n",
       "    <tr>\n",
       "      <th>3</th>\n",
       "      <td>Trittligasse, 8001 Zürich</td>\n",
       "      <td>CHF 1,700.–</td>\n",
       "      <td>140m2</td>\n",
       "      <td>4.5rm</td>\n",
       "      <td>https://www.homegate.ch/rent/3000895367</td>\n",
       "    </tr>\n",
       "    <tr>\n",
       "      <th>4</th>\n",
       "      <td>Storchengasse 14, 8001 Zürich</td>\n",
       "      <td>CHF 1,780.–</td>\n",
       "      <td>34m2</td>\n",
       "      <td>1rm</td>\n",
       "      <td>https://www.homegate.ch/rent/3000899580</td>\n",
       "    </tr>\n",
       "    <tr>\n",
       "      <th>5</th>\n",
       "      <td>Rindermarkt 12, 8001 Zürich</td>\n",
       "      <td>CHF 2,600.–</td>\n",
       "      <td>56m2</td>\n",
       "      <td>2.5rm</td>\n",
       "      <td>https://www.homegate.ch/rent/3000661119</td>\n",
       "    </tr>\n",
       "    <tr>\n",
       "      <th>6</th>\n",
       "      <td>Rämistrasse 44, 8001 Zürich</td>\n",
       "      <td>CHF 4,100.–</td>\n",
       "      <td></td>\n",
       "      <td>3.5rm</td>\n",
       "      <td>https://www.homegate.ch/rent/3000886313</td>\n",
       "    </tr>\n",
       "    <tr>\n",
       "      <th>7</th>\n",
       "      <td>Spiegelgasse 13, 8001 Zürich</td>\n",
       "      <td>CHF 5,170.–</td>\n",
       "      <td>121m2</td>\n",
       "      <td>2.5rm</td>\n",
       "      <td>https://www.homegate.ch/rent/3000814335</td>\n",
       "    </tr>\n",
       "    <tr>\n",
       "      <th>8</th>\n",
       "      <td>In Gassen 14, 8001 Zürich</td>\n",
       "      <td>CHF 7,200.–</td>\n",
       "      <td>173m2</td>\n",
       "      <td>4.5rm</td>\n",
       "      <td>https://www.homegate.ch/rent/3000900478</td>\n",
       "    </tr>\n",
       "    <tr>\n",
       "      <th>9</th>\n",
       "      <td>Clausiusstrasse 68, 8006 Zürich</td>\n",
       "      <td>CHF 2,670.–</td>\n",
       "      <td>58m2</td>\n",
       "      <td>2.5rm</td>\n",
       "      <td>https://www.homegate.ch/rent/3000867312</td>\n",
       "    </tr>\n",
       "    <tr>\n",
       "      <th>10</th>\n",
       "      <td>Götzstrasse, 8006 Zürich</td>\n",
       "      <td>CHF 3,300.–</td>\n",
       "      <td>83m2</td>\n",
       "      <td>3.5rm</td>\n",
       "      <td>https://www.homegate.ch/rent/3000884310</td>\n",
       "    </tr>\n",
       "    <tr>\n",
       "      <th>11</th>\n",
       "      <td>Weinbergstrasse 50, 8006 Zürich</td>\n",
       "      <td>CHF 3,450.–</td>\n",
       "      <td>91m2</td>\n",
       "      <td>4rm</td>\n",
       "      <td>https://www.homegate.ch/rent/3000909099</td>\n",
       "    </tr>\n",
       "    <tr>\n",
       "      <th>12</th>\n",
       "      <td>Letzistrasse 13a, 8006 Zürich</td>\n",
       "      <td>CHF 3,500.–</td>\n",
       "      <td>110m2</td>\n",
       "      <td>4.5rm</td>\n",
       "      <td>https://www.homegate.ch/rent/3000669650</td>\n",
       "    </tr>\n",
       "    <tr>\n",
       "      <th>13</th>\n",
       "      <td>Clausiusstrasse 68, 8006 Zürich</td>\n",
       "      <td>CHF 4,805.–</td>\n",
       "      <td>95m2</td>\n",
       "      <td>4.5rm</td>\n",
       "      <td>https://www.homegate.ch/rent/3000875687</td>\n",
       "    </tr>\n",
       "    <tr>\n",
       "      <th>14</th>\n",
       "      <td>Culmannstrasse 64, 8006 Zürich</td>\n",
       "      <td>CHF 5,950.–</td>\n",
       "      <td>140m2</td>\n",
       "      <td>4rm</td>\n",
       "      <td>https://www.homegate.ch/rent/3000837167</td>\n",
       "    </tr>\n",
       "    <tr>\n",
       "      <th>15</th>\n",
       "      <td>Helenastrasse 11, 8008 Zürich</td>\n",
       "      <td>CHF 2,940.–</td>\n",
       "      <td>78m2</td>\n",
       "      <td>2.5rm</td>\n",
       "      <td>https://www.homegate.ch/rent/3000904161</td>\n",
       "    </tr>\n",
       "    <tr>\n",
       "      <th>16</th>\n",
       "      <td>Mühlebachstr. 42, 8008 Zürich</td>\n",
       "      <td>CHF 3,110.–</td>\n",
       "      <td>78m2</td>\n",
       "      <td>2.5rm</td>\n",
       "      <td>https://www.homegate.ch/rent/3000883870</td>\n",
       "    </tr>\n",
       "    <tr>\n",
       "      <th>17</th>\n",
       "      <td>Wiesenstrasse 9, 8008 Zürich</td>\n",
       "      <td>CHF 3,180.–</td>\n",
       "      <td>75m2</td>\n",
       "      <td>2.5rm</td>\n",
       "      <td>https://www.homegate.ch/rent/3000908254</td>\n",
       "    </tr>\n",
       "    <tr>\n",
       "      <th>18</th>\n",
       "      <td>Mühlebachstr. 42, 8008 Zürich</td>\n",
       "      <td>CHF 5,100.–</td>\n",
       "      <td>115m2</td>\n",
       "      <td>4rm</td>\n",
       "      <td>https://www.homegate.ch/rent/3000883833</td>\n",
       "    </tr>\n",
       "    <tr>\n",
       "      <th>19</th>\n",
       "      <td>Seefeldstrasse 307, 8008 Zürich</td>\n",
       "      <td>CHF 6,915.–</td>\n",
       "      <td>170m2</td>\n",
       "      <td>4.5rm</td>\n",
       "      <td>https://www.homegate.ch/rent/3000717622</td>\n",
       "    </tr>\n",
       "  </tbody>\n",
       "</table>\n",
       "</div>"
      ],
      "text/plain": [
       "                              Address        Price  Space  Rooms  \\\n",
       "0   Zaehringerstrasse 26, 8001 Zurich  CHF 1,550.–  100m2  4.5rm   \n",
       "1       32 Mainaustrasse, 8008 Zurich  CHF 2,280.–   43m2  1.5rm   \n",
       "2       Mühlebachstrasse, 8008 Zurich  CHF 3,450.–   60m2  2.5rm   \n",
       "3           Trittligasse, 8001 Zürich  CHF 1,700.–  140m2  4.5rm   \n",
       "4       Storchengasse 14, 8001 Zürich  CHF 1,780.–   34m2    1rm   \n",
       "5         Rindermarkt 12, 8001 Zürich  CHF 2,600.–   56m2  2.5rm   \n",
       "6         Rämistrasse 44, 8001 Zürich  CHF 4,100.–         3.5rm   \n",
       "7        Spiegelgasse 13, 8001 Zürich  CHF 5,170.–  121m2  2.5rm   \n",
       "8           In Gassen 14, 8001 Zürich  CHF 7,200.–  173m2  4.5rm   \n",
       "9     Clausiusstrasse 68, 8006 Zürich  CHF 2,670.–   58m2  2.5rm   \n",
       "10           Götzstrasse, 8006 Zürich  CHF 3,300.–   83m2  3.5rm   \n",
       "11    Weinbergstrasse 50, 8006 Zürich  CHF 3,450.–   91m2    4rm   \n",
       "12      Letzistrasse 13a, 8006 Zürich  CHF 3,500.–  110m2  4.5rm   \n",
       "13    Clausiusstrasse 68, 8006 Zürich  CHF 4,805.–   95m2  4.5rm   \n",
       "14     Culmannstrasse 64, 8006 Zürich  CHF 5,950.–  140m2    4rm   \n",
       "15      Helenastrasse 11, 8008 Zürich  CHF 2,940.–   78m2  2.5rm   \n",
       "16      Mühlebachstr. 42, 8008 Zürich  CHF 3,110.–   78m2  2.5rm   \n",
       "17       Wiesenstrasse 9, 8008 Zürich  CHF 3,180.–   75m2  2.5rm   \n",
       "18      Mühlebachstr. 42, 8008 Zürich  CHF 5,100.–  115m2    4rm   \n",
       "19    Seefeldstrasse 307, 8008 Zürich  CHF 6,915.–  170m2  4.5rm   \n",
       "\n",
       "                                  flat_link  \n",
       "0   https://www.homegate.ch/rent/3000908194  \n",
       "1   https://www.homegate.ch/rent/3000909385  \n",
       "2   https://www.homegate.ch/rent/3000751316  \n",
       "3   https://www.homegate.ch/rent/3000895367  \n",
       "4   https://www.homegate.ch/rent/3000899580  \n",
       "5   https://www.homegate.ch/rent/3000661119  \n",
       "6   https://www.homegate.ch/rent/3000886313  \n",
       "7   https://www.homegate.ch/rent/3000814335  \n",
       "8   https://www.homegate.ch/rent/3000900478  \n",
       "9   https://www.homegate.ch/rent/3000867312  \n",
       "10  https://www.homegate.ch/rent/3000884310  \n",
       "11  https://www.homegate.ch/rent/3000909099  \n",
       "12  https://www.homegate.ch/rent/3000669650  \n",
       "13  https://www.homegate.ch/rent/3000875687  \n",
       "14  https://www.homegate.ch/rent/3000837167  \n",
       "15  https://www.homegate.ch/rent/3000904161  \n",
       "16  https://www.homegate.ch/rent/3000883870  \n",
       "17  https://www.homegate.ch/rent/3000908254  \n",
       "18  https://www.homegate.ch/rent/3000883833  \n",
       "19  https://www.homegate.ch/rent/3000717622  "
      ]
     },
     "execution_count": 21,
     "metadata": {},
     "output_type": "execute_result"
    }
   ],
   "source": [
    "df_page"
   ]
  }
 ],
 "metadata": {
  "kernelspec": {
   "display_name": "prop_env",
   "language": "python",
   "name": "prop_env"
  },
  "language_info": {
   "codemirror_mode": {
    "name": "ipython",
    "version": 3
   },
   "file_extension": ".py",
   "mimetype": "text/x-python",
   "name": "python",
   "nbconvert_exporter": "python",
   "pygments_lexer": "ipython3",
   "version": "3.8.5"
  }
 },
 "nbformat": 4,
 "nbformat_minor": 4
}
